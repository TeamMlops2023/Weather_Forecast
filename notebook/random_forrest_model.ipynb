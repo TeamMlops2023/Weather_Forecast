{
 "cells": [
  {
   "cell_type": "code",
   "execution_count": 34,
   "id": "bbf82002-676a-477a-8c87-4453105b615a",
   "metadata": {
    "tags": []
   },
   "outputs": [],
   "source": [
    "import numpy as np\n",
    "import pandas as pd\n",
    "import matplotlib.pyplot as plt\n",
    "import seaborn as sns\n",
    "from sklearn.preprocessing import LabelEncoder\n",
    "from sklearn.preprocessing import StandardScaler\n",
    "from sklearn.model_selection import train_test_split\n",
    "from sklearn.metrics import accuracy_score\n",
    "from sklearn.model_selection import cross_val_score\n",
    "from sklearn.ensemble import RandomForestClassifier\n",
    "from sklearn.tree import DecisionTreeClassifier\n",
    "from sklearn.metrics import confusion_matrix, roc_auc_score, precision_score, recall_score, f1_score, classification_report, roc_curve, auc, precision_recall_curve, average_precision_score\n",
    "\n",
    "from sklearn import metrics\n",
    "from sklearn.model_selection import GridSearchCV, validation_curve\n",
    "from sklearn.feature_selection import SelectKBest, f_regression, mutual_info_regression,f_classif,chi2\n"
   ]
  },
  {
   "cell_type": "code",
   "execution_count": 35,
   "id": "db39af1e-55a0-4e01-889a-4e2f45faa888",
   "metadata": {
    "tags": []
   },
   "outputs": [
    {
     "data": {
      "text/html": [
       "<div>\n",
       "<style scoped>\n",
       "    .dataframe tbody tr th:only-of-type {\n",
       "        vertical-align: middle;\n",
       "    }\n",
       "\n",
       "    .dataframe tbody tr th {\n",
       "        vertical-align: top;\n",
       "    }\n",
       "\n",
       "    .dataframe thead th {\n",
       "        text-align: right;\n",
       "    }\n",
       "</style>\n",
       "<table border=\"1\" class=\"dataframe\">\n",
       "  <thead>\n",
       "    <tr style=\"text-align: right;\">\n",
       "      <th></th>\n",
       "      <th>location</th>\n",
       "      <th>rainfall</th>\n",
       "      <th>evaporation</th>\n",
       "      <th>sunshine</th>\n",
       "      <th>windgustspeed</th>\n",
       "      <th>windspeed9am</th>\n",
       "      <th>windspeed3pm</th>\n",
       "      <th>humidity9am</th>\n",
       "      <th>humidity3pm</th>\n",
       "      <th>pressure3pm</th>\n",
       "      <th>...</th>\n",
       "      <th>climat</th>\n",
       "      <th>geography</th>\n",
       "      <th>position</th>\n",
       "      <th>temp_amplitude</th>\n",
       "      <th>winddir9am_sin</th>\n",
       "      <th>winddir9am_cos</th>\n",
       "      <th>winddir3pm_sin</th>\n",
       "      <th>winddir3pm_cos</th>\n",
       "      <th>windgustdir_sin</th>\n",
       "      <th>windgustdir_cos</th>\n",
       "    </tr>\n",
       "  </thead>\n",
       "  <tbody>\n",
       "    <tr>\n",
       "      <th>0</th>\n",
       "      <td>Albury</td>\n",
       "      <td>0.6</td>\n",
       "      <td>7.6</td>\n",
       "      <td>10.9</td>\n",
       "      <td>44.0</td>\n",
       "      <td>20.0</td>\n",
       "      <td>24.0</td>\n",
       "      <td>71.0</td>\n",
       "      <td>22.0</td>\n",
       "      <td>1007.1</td>\n",
       "      <td>...</td>\n",
       "      <td>0</td>\n",
       "      <td>0</td>\n",
       "      <td>0</td>\n",
       "      <td>9.5</td>\n",
       "      <td>1.224647e-16</td>\n",
       "      <td>-1.000000</td>\n",
       "      <td>0.382683</td>\n",
       "      <td>-0.923880</td>\n",
       "      <td>1.224647e-16</td>\n",
       "      <td>-1.000000</td>\n",
       "    </tr>\n",
       "    <tr>\n",
       "      <th>1</th>\n",
       "      <td>Albury</td>\n",
       "      <td>0.0</td>\n",
       "      <td>12.0</td>\n",
       "      <td>12.9</td>\n",
       "      <td>44.0</td>\n",
       "      <td>4.0</td>\n",
       "      <td>22.0</td>\n",
       "      <td>44.0</td>\n",
       "      <td>25.0</td>\n",
       "      <td>1007.8</td>\n",
       "      <td>...</td>\n",
       "      <td>0</td>\n",
       "      <td>0</td>\n",
       "      <td>0</td>\n",
       "      <td>17.7</td>\n",
       "      <td>9.238795e-01</td>\n",
       "      <td>-0.382683</td>\n",
       "      <td>-0.382683</td>\n",
       "      <td>-0.923880</td>\n",
       "      <td>3.826834e-01</td>\n",
       "      <td>-0.923880</td>\n",
       "    </tr>\n",
       "    <tr>\n",
       "      <th>2</th>\n",
       "      <td>Albury</td>\n",
       "      <td>0.0</td>\n",
       "      <td>8.0</td>\n",
       "      <td>8.0</td>\n",
       "      <td>46.0</td>\n",
       "      <td>19.0</td>\n",
       "      <td>26.0</td>\n",
       "      <td>38.0</td>\n",
       "      <td>30.0</td>\n",
       "      <td>1008.7</td>\n",
       "      <td>...</td>\n",
       "      <td>0</td>\n",
       "      <td>0</td>\n",
       "      <td>0</td>\n",
       "      <td>12.8</td>\n",
       "      <td>1.224647e-16</td>\n",
       "      <td>-1.000000</td>\n",
       "      <td>-0.382683</td>\n",
       "      <td>-0.923880</td>\n",
       "      <td>-3.826834e-01</td>\n",
       "      <td>-0.923880</td>\n",
       "    </tr>\n",
       "    <tr>\n",
       "      <th>3</th>\n",
       "      <td>Albury</td>\n",
       "      <td>0.0</td>\n",
       "      <td>10.0</td>\n",
       "      <td>2.2</td>\n",
       "      <td>24.0</td>\n",
       "      <td>11.0</td>\n",
       "      <td>9.0</td>\n",
       "      <td>45.0</td>\n",
       "      <td>16.0</td>\n",
       "      <td>1012.8</td>\n",
       "      <td>...</td>\n",
       "      <td>0</td>\n",
       "      <td>0</td>\n",
       "      <td>0</td>\n",
       "      <td>18.8</td>\n",
       "      <td>-7.071068e-01</td>\n",
       "      <td>0.707107</td>\n",
       "      <td>0.000000</td>\n",
       "      <td>1.000000</td>\n",
       "      <td>7.071068e-01</td>\n",
       "      <td>0.707107</td>\n",
       "    </tr>\n",
       "    <tr>\n",
       "      <th>4</th>\n",
       "      <td>Albury</td>\n",
       "      <td>1.0</td>\n",
       "      <td>4.8</td>\n",
       "      <td>6.7</td>\n",
       "      <td>41.0</td>\n",
       "      <td>7.0</td>\n",
       "      <td>20.0</td>\n",
       "      <td>82.0</td>\n",
       "      <td>33.0</td>\n",
       "      <td>1006.0</td>\n",
       "      <td>...</td>\n",
       "      <td>0</td>\n",
       "      <td>0</td>\n",
       "      <td>0</td>\n",
       "      <td>14.8</td>\n",
       "      <td>3.826834e-01</td>\n",
       "      <td>0.923880</td>\n",
       "      <td>0.707107</td>\n",
       "      <td>-0.707107</td>\n",
       "      <td>1.224647e-16</td>\n",
       "      <td>-1.000000</td>\n",
       "    </tr>\n",
       "  </tbody>\n",
       "</table>\n",
       "<p>5 rows × 29 columns</p>\n",
       "</div>"
      ],
      "text/plain": [
       "  location  rainfall  evaporation  sunshine  windgustspeed  windspeed9am  \\\n",
       "0   Albury       0.6          7.6      10.9           44.0          20.0   \n",
       "1   Albury       0.0         12.0      12.9           44.0           4.0   \n",
       "2   Albury       0.0          8.0       8.0           46.0          19.0   \n",
       "3   Albury       0.0         10.0       2.2           24.0          11.0   \n",
       "4   Albury       1.0          4.8       6.7           41.0           7.0   \n",
       "\n",
       "   windspeed3pm  humidity9am  humidity3pm  pressure3pm  ...  climat  \\\n",
       "0          24.0         71.0         22.0       1007.1  ...       0   \n",
       "1          22.0         44.0         25.0       1007.8  ...       0   \n",
       "2          26.0         38.0         30.0       1008.7  ...       0   \n",
       "3           9.0         45.0         16.0       1012.8  ...       0   \n",
       "4          20.0         82.0         33.0       1006.0  ...       0   \n",
       "\n",
       "   geography  position  temp_amplitude  winddir9am_sin  winddir9am_cos  \\\n",
       "0          0         0             9.5    1.224647e-16       -1.000000   \n",
       "1          0         0            17.7    9.238795e-01       -0.382683   \n",
       "2          0         0            12.8    1.224647e-16       -1.000000   \n",
       "3          0         0            18.8   -7.071068e-01        0.707107   \n",
       "4          0         0            14.8    3.826834e-01        0.923880   \n",
       "\n",
       "   winddir3pm_sin  winddir3pm_cos  windgustdir_sin  windgustdir_cos  \n",
       "0        0.382683       -0.923880     1.224647e-16        -1.000000  \n",
       "1       -0.382683       -0.923880     3.826834e-01        -0.923880  \n",
       "2       -0.382683       -0.923880    -3.826834e-01        -0.923880  \n",
       "3        0.000000        1.000000     7.071068e-01         0.707107  \n",
       "4        0.707107       -0.707107     1.224647e-16        -1.000000  \n",
       "\n",
       "[5 rows x 29 columns]"
      ]
     },
     "execution_count": 35,
     "metadata": {},
     "output_type": "execute_result"
    }
   ],
   "source": [
    "import pandas as pd\n",
    "\n",
    "df = pd.read_csv(\"data_features_with_location.csv\", index_col=0)\n",
    "df.head()"
   ]
  },
  {
   "cell_type": "code",
   "execution_count": 36,
   "id": "6f27f542-a406-4945-a930-69f1365cc902",
   "metadata": {
    "tags": []
   },
   "outputs": [
    {
     "name": "stdout",
     "output_type": "stream",
     "text": [
      "dataset optimisé :\n",
      "Length of Training Data: 58165\n",
      "Length of Testing Data: 14542\n",
      "\n",
      "\n"
     ]
    }
   ],
   "source": [
    "# Taille des données d'entraînement et de test :\n",
    "\n",
    "print(\"dataset optimisé :\")\n",
    "print(\"Length of Training Data: {}\".format(len(X_train)))\n",
    "print(\"Length of Testing Data: {}\".format(len(X_test)))\n",
    "print(\"\\n\")"
   ]
  },
  {
   "cell_type": "code",
   "execution_count": 37,
   "id": "a94d2d02-94c3-430b-973f-b50260f5de24",
   "metadata": {
    "tags": []
   },
   "outputs": [],
   "source": [
    "# Convert 'year', 'month', 'day' to datetime\n",
    "df['date'] = pd.to_datetime(df[['year', 'month', 'day']])"
   ]
  },
  {
   "cell_type": "code",
   "execution_count": 38,
   "id": "34960ea0-d9a2-4db2-95c9-e281167f2671",
   "metadata": {
    "tags": []
   },
   "outputs": [],
   "source": [
    "# Encodage des villes\n",
    "le = LabelEncoder()\n",
    "df['location_encoded'] = le.fit_transform(df['location'])"
   ]
  },
  {
   "cell_type": "code",
   "execution_count": 39,
   "id": "dc60a1f5-80a8-4868-8efb-0d84af8a7a0f",
   "metadata": {
    "tags": []
   },
   "outputs": [],
   "source": [
    "# Préparer les données pour le modèle\n",
    "X = df.drop(['raintomorrow', 'year', 'month', 'day', 'location', 'date'], axis=1)\n",
    "y = df['raintomorrow']\n",
    "dates = df['date']"
   ]
  },
  {
   "cell_type": "code",
   "execution_count": 40,
   "id": "a49e5068-53d3-41dd-8eac-2953168e9b9b",
   "metadata": {
    "tags": []
   },
   "outputs": [],
   "source": [
    "# Séparation des données\n",
    "X_train, X_test, y_train, y_test, dates_train, dates_test = train_test_split(\n",
    "    X, y, dates, test_size=0.2, random_state=42)\n"
   ]
  },
  {
   "cell_type": "code",
   "execution_count": 41,
   "id": "c60dc10b-d9e5-4c1e-9e20-e13a747e9b7c",
   "metadata": {
    "tags": []
   },
   "outputs": [],
   "source": [
    "# Création du modèle de forêt aléatoire\n",
    "model = RandomForestClassifier()\n",
    "model.fit(X_train, y_train)\n",
    "y_pred = model.predict(X_test)\n",
    "accuracy = accuracy_score(y_test, y_pred)"
   ]
  },
  {
   "cell_type": "code",
   "execution_count": 48,
   "id": "f5f1dff5-c3e2-4957-ad62-5e14143b8a84",
   "metadata": {
    "tags": []
   },
   "outputs": [
    {
     "name": "stdout",
     "output_type": "stream",
     "text": [
      "0.8855040572135883              Date            City  Predicted\n",
      "129422 2016-05-06         Walpole          1\n",
      "121436 2010-09-07           Perth          1\n",
      "56991  2014-05-02        Ballarat          1\n",
      "63519  2015-08-24            Sale          1\n",
      "112552 2011-08-30     Witchcliffe          1\n",
      "...           ...             ...        ...\n",
      "144221 2014-02-03           Uluru          1\n",
      "40022  2010-04-30     Williamtown          1\n",
      "47644  2013-09-16        Canberra          1\n",
      "36248  2016-09-18  Sydney Airport          1\n",
      "101465 2014-07-04   Mount Gambier          1\n",
      "\n",
      "[1213 rows x 3 columns]\n"
     ]
    }
   ],
   "source": [
    "# Préparation des prédictions avec les dates\n",
    "predictions = pd.DataFrame({\n",
    "    'Date': dates_test,\n",
    "    'City': le.inverse_transform(X_test['location_encoded']),\n",
    "    'Predicted': y_pred\n",
    "})\n",
    "rain_predictions = predictions[predictions['Predicted'] == 1]\n",
    "print(accuracy, rain_predictions)"
   ]
  },
  {
   "cell_type": "code",
   "execution_count": null,
   "id": "094e1aed-0eb3-4af8-a3a7-36a7790eba06",
   "metadata": {
    "tags": []
   },
   "outputs": [],
   "source": []
  },
  {
   "cell_type": "code",
   "execution_count": 14,
   "id": "3a8f2eac-d983-4eea-b6c9-39728aa13b6e",
   "metadata": {
    "tags": []
   },
   "outputs": [
    {
     "name": "stdout",
     "output_type": "stream",
     "text": [
      "dataset optimisé :\n",
      "Length of Training Data: 58165\n",
      "Length of Testing Data: 14542\n",
      "\n",
      "\n"
     ]
    }
   ],
   "source": [
    "# Taille des données d'entraînement et de test :\n",
    "\n",
    "print(\"dataset optimisé :\")\n",
    "print(\"Length of Training Data: {}\".format(len(X_train)))\n",
    "print(\"Length of Testing Data: {}\".format(len(X_test)))\n",
    "print(\"\\n\")"
   ]
  },
  {
   "cell_type": "code",
   "execution_count": 15,
   "id": "f96c9dbd-3206-4479-9854-235607cfbb0f",
   "metadata": {
    "tags": []
   },
   "outputs": [
    {
     "ename": "ValueError",
     "evalue": "could not convert string to float: 'Coffs Harbour'",
     "output_type": "error",
     "traceback": [
      "\u001b[1;31m---------------------------------------------------------------------------\u001b[0m",
      "\u001b[1;31mValueError\u001b[0m                                Traceback (most recent call last)",
      "Cell \u001b[1;32mIn[15], line 5\u001b[0m\n\u001b[0;32m      2\u001b[0m random_forest_model \u001b[38;5;241m=\u001b[39m RandomForestClassifier(n_estimators\u001b[38;5;241m=\u001b[39m\u001b[38;5;241m100\u001b[39m, random_state\u001b[38;5;241m=\u001b[39m\u001b[38;5;241m10\u001b[39m)\n\u001b[0;32m      4\u001b[0m \u001b[38;5;66;03m# Entraînement du modèle avec les données d'entraînement\u001b[39;00m\n\u001b[1;32m----> 5\u001b[0m random_forest_model\u001b[38;5;241m.\u001b[39mfit(X_train, y_train)\n",
      "File \u001b[1;32m~\\anaconda3\\Lib\\site-packages\\sklearn\\base.py:1151\u001b[0m, in \u001b[0;36m_fit_context.<locals>.decorator.<locals>.wrapper\u001b[1;34m(estimator, *args, **kwargs)\u001b[0m\n\u001b[0;32m   1144\u001b[0m     estimator\u001b[38;5;241m.\u001b[39m_validate_params()\n\u001b[0;32m   1146\u001b[0m \u001b[38;5;28;01mwith\u001b[39;00m config_context(\n\u001b[0;32m   1147\u001b[0m     skip_parameter_validation\u001b[38;5;241m=\u001b[39m(\n\u001b[0;32m   1148\u001b[0m         prefer_skip_nested_validation \u001b[38;5;129;01mor\u001b[39;00m global_skip_validation\n\u001b[0;32m   1149\u001b[0m     )\n\u001b[0;32m   1150\u001b[0m ):\n\u001b[1;32m-> 1151\u001b[0m     \u001b[38;5;28;01mreturn\u001b[39;00m fit_method(estimator, \u001b[38;5;241m*\u001b[39margs, \u001b[38;5;241m*\u001b[39m\u001b[38;5;241m*\u001b[39mkwargs)\n",
      "File \u001b[1;32m~\\anaconda3\\Lib\\site-packages\\sklearn\\ensemble\\_forest.py:348\u001b[0m, in \u001b[0;36mBaseForest.fit\u001b[1;34m(self, X, y, sample_weight)\u001b[0m\n\u001b[0;32m    346\u001b[0m \u001b[38;5;28;01mif\u001b[39;00m issparse(y):\n\u001b[0;32m    347\u001b[0m     \u001b[38;5;28;01mraise\u001b[39;00m \u001b[38;5;167;01mValueError\u001b[39;00m(\u001b[38;5;124m\"\u001b[39m\u001b[38;5;124msparse multilabel-indicator for y is not supported.\u001b[39m\u001b[38;5;124m\"\u001b[39m)\n\u001b[1;32m--> 348\u001b[0m X, y \u001b[38;5;241m=\u001b[39m \u001b[38;5;28mself\u001b[39m\u001b[38;5;241m.\u001b[39m_validate_data(\n\u001b[0;32m    349\u001b[0m     X, y, multi_output\u001b[38;5;241m=\u001b[39m\u001b[38;5;28;01mTrue\u001b[39;00m, accept_sparse\u001b[38;5;241m=\u001b[39m\u001b[38;5;124m\"\u001b[39m\u001b[38;5;124mcsc\u001b[39m\u001b[38;5;124m\"\u001b[39m, dtype\u001b[38;5;241m=\u001b[39mDTYPE\n\u001b[0;32m    350\u001b[0m )\n\u001b[0;32m    351\u001b[0m \u001b[38;5;28;01mif\u001b[39;00m sample_weight \u001b[38;5;129;01mis\u001b[39;00m \u001b[38;5;129;01mnot\u001b[39;00m \u001b[38;5;28;01mNone\u001b[39;00m:\n\u001b[0;32m    352\u001b[0m     sample_weight \u001b[38;5;241m=\u001b[39m _check_sample_weight(sample_weight, X)\n",
      "File \u001b[1;32m~\\anaconda3\\Lib\\site-packages\\sklearn\\base.py:621\u001b[0m, in \u001b[0;36mBaseEstimator._validate_data\u001b[1;34m(self, X, y, reset, validate_separately, cast_to_ndarray, **check_params)\u001b[0m\n\u001b[0;32m    619\u001b[0m         y \u001b[38;5;241m=\u001b[39m check_array(y, input_name\u001b[38;5;241m=\u001b[39m\u001b[38;5;124m\"\u001b[39m\u001b[38;5;124my\u001b[39m\u001b[38;5;124m\"\u001b[39m, \u001b[38;5;241m*\u001b[39m\u001b[38;5;241m*\u001b[39mcheck_y_params)\n\u001b[0;32m    620\u001b[0m     \u001b[38;5;28;01melse\u001b[39;00m:\n\u001b[1;32m--> 621\u001b[0m         X, y \u001b[38;5;241m=\u001b[39m check_X_y(X, y, \u001b[38;5;241m*\u001b[39m\u001b[38;5;241m*\u001b[39mcheck_params)\n\u001b[0;32m    622\u001b[0m     out \u001b[38;5;241m=\u001b[39m X, y\n\u001b[0;32m    624\u001b[0m \u001b[38;5;28;01mif\u001b[39;00m \u001b[38;5;129;01mnot\u001b[39;00m no_val_X \u001b[38;5;129;01mand\u001b[39;00m check_params\u001b[38;5;241m.\u001b[39mget(\u001b[38;5;124m\"\u001b[39m\u001b[38;5;124mensure_2d\u001b[39m\u001b[38;5;124m\"\u001b[39m, \u001b[38;5;28;01mTrue\u001b[39;00m):\n",
      "File \u001b[1;32m~\\anaconda3\\Lib\\site-packages\\sklearn\\utils\\validation.py:1147\u001b[0m, in \u001b[0;36mcheck_X_y\u001b[1;34m(X, y, accept_sparse, accept_large_sparse, dtype, order, copy, force_all_finite, ensure_2d, allow_nd, multi_output, ensure_min_samples, ensure_min_features, y_numeric, estimator)\u001b[0m\n\u001b[0;32m   1142\u001b[0m         estimator_name \u001b[38;5;241m=\u001b[39m _check_estimator_name(estimator)\n\u001b[0;32m   1143\u001b[0m     \u001b[38;5;28;01mraise\u001b[39;00m \u001b[38;5;167;01mValueError\u001b[39;00m(\n\u001b[0;32m   1144\u001b[0m         \u001b[38;5;124mf\u001b[39m\u001b[38;5;124m\"\u001b[39m\u001b[38;5;132;01m{\u001b[39;00mestimator_name\u001b[38;5;132;01m}\u001b[39;00m\u001b[38;5;124m requires y to be passed, but the target y is None\u001b[39m\u001b[38;5;124m\"\u001b[39m\n\u001b[0;32m   1145\u001b[0m     )\n\u001b[1;32m-> 1147\u001b[0m X \u001b[38;5;241m=\u001b[39m check_array(\n\u001b[0;32m   1148\u001b[0m     X,\n\u001b[0;32m   1149\u001b[0m     accept_sparse\u001b[38;5;241m=\u001b[39maccept_sparse,\n\u001b[0;32m   1150\u001b[0m     accept_large_sparse\u001b[38;5;241m=\u001b[39maccept_large_sparse,\n\u001b[0;32m   1151\u001b[0m     dtype\u001b[38;5;241m=\u001b[39mdtype,\n\u001b[0;32m   1152\u001b[0m     order\u001b[38;5;241m=\u001b[39morder,\n\u001b[0;32m   1153\u001b[0m     copy\u001b[38;5;241m=\u001b[39mcopy,\n\u001b[0;32m   1154\u001b[0m     force_all_finite\u001b[38;5;241m=\u001b[39mforce_all_finite,\n\u001b[0;32m   1155\u001b[0m     ensure_2d\u001b[38;5;241m=\u001b[39mensure_2d,\n\u001b[0;32m   1156\u001b[0m     allow_nd\u001b[38;5;241m=\u001b[39mallow_nd,\n\u001b[0;32m   1157\u001b[0m     ensure_min_samples\u001b[38;5;241m=\u001b[39mensure_min_samples,\n\u001b[0;32m   1158\u001b[0m     ensure_min_features\u001b[38;5;241m=\u001b[39mensure_min_features,\n\u001b[0;32m   1159\u001b[0m     estimator\u001b[38;5;241m=\u001b[39mestimator,\n\u001b[0;32m   1160\u001b[0m     input_name\u001b[38;5;241m=\u001b[39m\u001b[38;5;124m\"\u001b[39m\u001b[38;5;124mX\u001b[39m\u001b[38;5;124m\"\u001b[39m,\n\u001b[0;32m   1161\u001b[0m )\n\u001b[0;32m   1163\u001b[0m y \u001b[38;5;241m=\u001b[39m _check_y(y, multi_output\u001b[38;5;241m=\u001b[39mmulti_output, y_numeric\u001b[38;5;241m=\u001b[39my_numeric, estimator\u001b[38;5;241m=\u001b[39mestimator)\n\u001b[0;32m   1165\u001b[0m check_consistent_length(X, y)\n",
      "File \u001b[1;32m~\\anaconda3\\Lib\\site-packages\\sklearn\\utils\\validation.py:917\u001b[0m, in \u001b[0;36mcheck_array\u001b[1;34m(array, accept_sparse, accept_large_sparse, dtype, order, copy, force_all_finite, ensure_2d, allow_nd, ensure_min_samples, ensure_min_features, estimator, input_name)\u001b[0m\n\u001b[0;32m    915\u001b[0m         array \u001b[38;5;241m=\u001b[39m xp\u001b[38;5;241m.\u001b[39mastype(array, dtype, copy\u001b[38;5;241m=\u001b[39m\u001b[38;5;28;01mFalse\u001b[39;00m)\n\u001b[0;32m    916\u001b[0m     \u001b[38;5;28;01melse\u001b[39;00m:\n\u001b[1;32m--> 917\u001b[0m         array \u001b[38;5;241m=\u001b[39m _asarray_with_order(array, order\u001b[38;5;241m=\u001b[39morder, dtype\u001b[38;5;241m=\u001b[39mdtype, xp\u001b[38;5;241m=\u001b[39mxp)\n\u001b[0;32m    918\u001b[0m \u001b[38;5;28;01mexcept\u001b[39;00m ComplexWarning \u001b[38;5;28;01mas\u001b[39;00m complex_warning:\n\u001b[0;32m    919\u001b[0m     \u001b[38;5;28;01mraise\u001b[39;00m \u001b[38;5;167;01mValueError\u001b[39;00m(\n\u001b[0;32m    920\u001b[0m         \u001b[38;5;124m\"\u001b[39m\u001b[38;5;124mComplex data not supported\u001b[39m\u001b[38;5;130;01m\\n\u001b[39;00m\u001b[38;5;132;01m{}\u001b[39;00m\u001b[38;5;130;01m\\n\u001b[39;00m\u001b[38;5;124m\"\u001b[39m\u001b[38;5;241m.\u001b[39mformat(array)\n\u001b[0;32m    921\u001b[0m     ) \u001b[38;5;28;01mfrom\u001b[39;00m \u001b[38;5;21;01mcomplex_warning\u001b[39;00m\n",
      "File \u001b[1;32m~\\anaconda3\\Lib\\site-packages\\sklearn\\utils\\_array_api.py:380\u001b[0m, in \u001b[0;36m_asarray_with_order\u001b[1;34m(array, dtype, order, copy, xp)\u001b[0m\n\u001b[0;32m    378\u001b[0m     array \u001b[38;5;241m=\u001b[39m numpy\u001b[38;5;241m.\u001b[39marray(array, order\u001b[38;5;241m=\u001b[39morder, dtype\u001b[38;5;241m=\u001b[39mdtype)\n\u001b[0;32m    379\u001b[0m \u001b[38;5;28;01melse\u001b[39;00m:\n\u001b[1;32m--> 380\u001b[0m     array \u001b[38;5;241m=\u001b[39m numpy\u001b[38;5;241m.\u001b[39masarray(array, order\u001b[38;5;241m=\u001b[39morder, dtype\u001b[38;5;241m=\u001b[39mdtype)\n\u001b[0;32m    382\u001b[0m \u001b[38;5;66;03m# At this point array is a NumPy ndarray. We convert it to an array\u001b[39;00m\n\u001b[0;32m    383\u001b[0m \u001b[38;5;66;03m# container that is consistent with the input's namespace.\u001b[39;00m\n\u001b[0;32m    384\u001b[0m \u001b[38;5;28;01mreturn\u001b[39;00m xp\u001b[38;5;241m.\u001b[39masarray(array)\n",
      "File \u001b[1;32m~\\anaconda3\\Lib\\site-packages\\pandas\\core\\generic.py:2070\u001b[0m, in \u001b[0;36mNDFrame.__array__\u001b[1;34m(self, dtype)\u001b[0m\n\u001b[0;32m   2069\u001b[0m \u001b[38;5;28;01mdef\u001b[39;00m \u001b[38;5;21m__array__\u001b[39m(\u001b[38;5;28mself\u001b[39m, dtype: npt\u001b[38;5;241m.\u001b[39mDTypeLike \u001b[38;5;241m|\u001b[39m \u001b[38;5;28;01mNone\u001b[39;00m \u001b[38;5;241m=\u001b[39m \u001b[38;5;28;01mNone\u001b[39;00m) \u001b[38;5;241m-\u001b[39m\u001b[38;5;241m>\u001b[39m np\u001b[38;5;241m.\u001b[39mndarray:\n\u001b[1;32m-> 2070\u001b[0m     \u001b[38;5;28;01mreturn\u001b[39;00m np\u001b[38;5;241m.\u001b[39masarray(\u001b[38;5;28mself\u001b[39m\u001b[38;5;241m.\u001b[39m_values, dtype\u001b[38;5;241m=\u001b[39mdtype)\n",
      "\u001b[1;31mValueError\u001b[0m: could not convert string to float: 'Coffs Harbour'"
     ]
    }
   ],
   "source": [
    "# Création du modèle de forêt aléatoire\n",
    "random_forest_model = RandomForestClassifier(n_estimators=100, random_state=10)\n",
    "\n",
    "# Entraînement du modèle avec les données d'entraînement\n",
    "random_forest_model.fit(X_train, y_train)\n",
    "\n",
    "# Prédiction sur les données de test\n",
    "y_pred = random_forest_model.predict(X_test)\n",
    "\n",
    "# Évaluation du modèle\n",
    "print(\"Accuracy:\", accuracy_score(y_test, y_pred))\n",
    "\n",
    "# Calcul de la précision\n",
    "precision = precision_score(y_test, y_pred, average='binary')  \n",
    "print(f\"Precision: {precision}\")\n",
    "\n",
    "# Calcul du recall\n",
    "recall = recall_score(y_test, y_pred, average='binary')  \n",
    "print(f\"Recall: {recall}\")\n",
    "\n",
    "# Calcul du F1-Score\n",
    "f1 = f1_score(y_test, y_pred, average='binary')  \n",
    "print(f\"F1-Score: {f1}\")"
   ]
  },
  {
   "cell_type": "code",
   "execution_count": 12,
   "id": "fef0a5fe-8884-49b6-b05a-602a8a8b86c9",
   "metadata": {},
   "outputs": [
    {
     "name": "stdout",
     "output_type": "stream",
     "text": [
      "       sunshine  windgustspeed  humidity3pm  pressure3pm  year  windspeed3pm  \\\n",
      "9          0.00          30.00        22.00      1008.70  2008          6.00   \n",
      "10         9.60          22.00        82.00      1010.40  2008          9.00   \n",
      "19         7.20          46.00        22.00      1004.20  2008         30.00   \n",
      "49         3.80          46.00        69.00      1017.30  2009         15.00   \n",
      "68         9.70          50.00        25.00      1016.20  2009          4.00   \n",
      "...         ...            ...          ...          ...   ...           ...   \n",
      "72646      7.00          43.00        63.00      1004.90  2015         20.00   \n",
      "72663     12.30          30.00        70.00      1013.00  2016         17.00   \n",
      "72667      7.50          43.00        32.00      1007.90  2016          9.00   \n",
      "72671      6.80          43.00        33.00      1007.30  2016         13.00   \n",
      "72675      9.00          41.00        24.00      1002.60  2016         22.00   \n",
      "\n",
      "       temp_amplitude  cloud3pm  rainfall  climat  ...  cloud9am  \\\n",
      "9               17.00      8.00      0.00       0  ...      8.00   \n",
      "10               6.80      1.00      0.00       0  ...      8.00   \n",
      "19               7.50      6.00      0.00       0  ...      2.00   \n",
      "49               5.50      8.00      0.00       0  ...      2.00   \n",
      "68              16.50      5.00      0.00       0  ...      6.00   \n",
      "...               ...       ...       ...     ...  ...       ...   \n",
      "72646            6.50      5.00      0.00       1  ...      6.00   \n",
      "72663            6.00      8.00      0.00       1  ...      8.00   \n",
      "72667           14.80      7.00      0.00       1  ...      5.00   \n",
      "72671           10.80      1.00      0.00       1  ...      7.00   \n",
      "72675           13.70      2.00      0.00       1  ...      1.00   \n",
      "\n",
      "       winddir9am_sin  latitude  month  geography  raintoday  evaporation  \\\n",
      "9               -0.92    -36.07     12          0          0         4.60   \n",
      "10              -0.92    -36.07     12          0          0         9.20   \n",
      "19               0.71    -36.07     12          0          0         8.00   \n",
      "49              -0.92    -36.07      2          0          0         9.40   \n",
      "68              -0.38    -36.07      3          0          0         8.80   \n",
      "...               ...       ...    ...        ...        ...          ...   \n",
      "72646           -0.38    -25.00     12          2          0        10.80   \n",
      "72663           -0.92    -25.00      2          2          0         9.60   \n",
      "72667           -0.92    -25.00      3          2          0         8.00   \n",
      "72671            0.00    -25.00      3          2          0         7.60   \n",
      "72675            0.38    -25.00      3          2          0        12.00   \n",
      "\n",
      "       windspeed9am  windgustdir_cos  raintomorrow  \n",
      "9             17.00             0.00             1  \n",
      "10            11.00             0.92             1  \n",
      "19            19.00            -0.92             1  \n",
      "49            11.00             0.71             1  \n",
      "68             2.00             0.71             1  \n",
      "...             ...              ...           ...  \n",
      "72646         13.00             0.38             1  \n",
      "72663         13.00            -0.92             1  \n",
      "72667         15.00             0.92             1  \n",
      "72671         24.00             0.71             1  \n",
      "72675          7.00            -1.00             1  \n",
      "\n",
      "[11626 rows x 24 columns]\n"
     ]
    }
   ],
   "source": [
    "filtered_data = df[df['raintomorrow'] == 1]\n",
    "print(filtered_data)"
   ]
  },
  {
   "cell_type": "code",
   "execution_count": 16,
   "id": "64a4c6a7-99e6-4883-87cc-9d03c523cab4",
   "metadata": {
    "tags": []
   },
   "outputs": [
    {
     "name": "stdout",
     "output_type": "stream",
     "text": [
      "Accuracy: 0.886535552193646\n",
      "                  City  Actual  Predicted\n",
      "129422         Walpole       1          1\n",
      "121436           Perth       1          1\n",
      "56991         Ballarat       0          1\n",
      "63519             Sale       1          1\n",
      "112552     Witchcliffe       0          1\n",
      "...                ...     ...        ...\n",
      "144221           Uluru       1          1\n",
      "40022      Williamtown       1          1\n",
      "47644         Canberra       1          1\n",
      "36248   Sydney Airport       1          1\n",
      "101465   Mount Gambier       1          1\n",
      "\n",
      "[1210 rows x 3 columns]\n"
     ]
    }
   ],
   "source": [
    "# Séparer les variables indépendantes et la cible\n",
    "X = df.drop(['raintomorrow', 'location'], axis=1)\n",
    "y = df['raintomorrow']\n",
    "cities = df['location']\n",
    "# Diviser les données en ensembles d'entraînement et de test\n",
    "X_train, X_test, y_train, y_test, cities_train, cities_test = train_test_split(X, y, cities, test_size=0.2, random_state=42)\n",
    "# Entraîner le modèle Random Forest\n",
    "model = RandomForestClassifier()\n",
    "model.fit(X_train, y_train)\n",
    "# Évaluer le modèle\n",
    "y_pred = model.predict(X_test)\n",
    "print(\"Accuracy:\", accuracy_score(y_test, y_pred))\n",
    "# Prédictions pour chaque ville\n",
    "predictions = pd.DataFrame({\n",
    "    'City': cities_test,\n",
    "    'Actual': y_test,\n",
    "    'Predicted': y_pred\n",
    "})\n",
    "# Afficher les résultats pour les villes où il pleuvra demain\n",
    "print(predictions[predictions['Predicted'] == 1])"
   ]
  },
  {
   "cell_type": "code",
   "execution_count": null,
   "id": "a96f3bd2-5c22-45e9-8097-8a7b9303c8ee",
   "metadata": {},
   "outputs": [],
   "source": []
  }
 ],
 "metadata": {
  "kernelspec": {
   "display_name": "Python 3 (ipykernel)",
   "language": "python",
   "name": "python3"
  },
  "language_info": {
   "codemirror_mode": {
    "name": "ipython",
    "version": 3
   },
   "file_extension": ".py",
   "mimetype": "text/x-python",
   "name": "python",
   "nbconvert_exporter": "python",
   "pygments_lexer": "ipython3",
   "version": "3.11.4"
  }
 },
 "nbformat": 4,
 "nbformat_minor": 5
}
